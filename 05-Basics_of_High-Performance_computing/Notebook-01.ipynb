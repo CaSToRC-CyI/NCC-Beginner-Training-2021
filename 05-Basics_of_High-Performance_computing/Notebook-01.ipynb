{
 "cells": [
  {
   "cell_type": "markdown",
   "metadata": {},
   "source": [
    "# Performance\n",
    "\n",
    "In this section we analyze the performance of a very simple operation: the addition of two arrays $y = x_1+x_2$"
   ]
  },
  {
   "cell_type": "code",
   "execution_count": null,
   "metadata": {},
   "outputs": [],
   "source": [
    "def add1(x1, x2):\n",
    "    \"Add with direct memory access and list extension\"\n",
    "    y = []\n",
    "    for i in range(len(x1)):\n",
    "        y.append(x1[i] + x2[i])\n",
    "    return y\n",
    "\n",
    "\n",
    "def add2(x1, x2):\n",
    "    \"Add with indirect memory access and list extension\"\n",
    "    y = []\n",
    "    for i1, i2 in zip(x1, x2):\n",
    "        y.append(i1 + i2)\n",
    "    return y\n",
    "\n",
    "\n",
    "def add3(x1, x2):\n",
    "    \"Add with indirect memory access and list generation\"\n",
    "    return [i1 + i2 for i1, i2 in zip(x1, x2)]\n",
    "\n",
    "\n",
    "def add4(x1, x2):\n",
    "    \"Add with buit-in numpy function\"\n",
    "    return x1 + x2"
   ]
  },
  {
   "cell_type": "code",
   "execution_count": null,
   "metadata": {},
   "outputs": [],
   "source": [
    "import numpy as np\n",
    "from timeit import timeit\n",
    "from pandas import DataFrame\n",
    "\n",
    "times = DataFrame(index=[2 ** i for i in range(12)])\n",
    "\n",
    "for size in times.index:\n",
    "    x1, x2 = np.random.rand(2, size)\n",
    "    for add in [\n",
    "        add1,\n",
    "        add2,\n",
    "        add3,\n",
    "        add4,\n",
    "    ]:\n",
    "        times.at[size, add.__name__] = timeit(lambda: add(x1, x2), number=1000)\n",
    "\n",
    "times.plot(ylabel=\"Time x1000 [seconds]\", xlabel=\"Size\")"
   ]
  },
  {
   "cell_type": "code",
   "execution_count": null,
   "metadata": {},
   "outputs": [],
   "source": [
    "times.plot(logx=True, logy=True, ylabel=\"Time x1000 [seconds]\", xlabel=\"Size\")"
   ]
  },
  {
   "cell_type": "code",
   "execution_count": null,
   "metadata": {},
   "outputs": [],
   "source": [
    "perf = times.apply(lambda x: np.array(times.index) / x)\n",
    "perf.plot(logx=True, logy=True, ylabel=\"kFLOPS\", xlabel=\"Size\")"
   ]
  },
  {
   "cell_type": "code",
   "execution_count": null,
   "metadata": {},
   "outputs": [],
   "source": [
    "times = DataFrame(index=[2 ** i for i in range(20)])\n",
    "\n",
    "for size in times.index:\n",
    "    x1, x2 = np.random.rand(2, size)\n",
    "    for add in [\n",
    "        add4,\n",
    "    ]:\n",
    "        times.at[size, add.__name__] = timeit(lambda: add(x1, x2), number=1000)\n",
    "\n",
    "times.plot(logx=True, logy=True, ylabel=\"Time x1000 [seconds]\", xlabel=\"Size\")\n",
    "\n",
    "perf = times.apply(lambda x: np.array(times.index) / x)\n",
    "perf.plot(logx=True, logy=True, ylabel=\"kFLOPS\", xlabel=\"Size\")"
   ]
  },
  {
   "cell_type": "markdown",
   "metadata": {},
   "source": [
    "# Multithreading\n",
    "\n",
    "\n",
    "In Python, the `threading` module provides a very simple and intuitive API for spawning multiple threads in a program."
   ]
  },
  {
   "cell_type": "code",
   "execution_count": null,
   "metadata": {},
   "outputs": [],
   "source": [
    "import threading\n",
    "\n",
    "help(threading.Thread)"
   ]
  },
  {
   "cell_type": "markdown",
   "metadata": {},
   "source": [
    "## Example 1: print"
   ]
  },
  {
   "cell_type": "code",
   "execution_count": null,
   "metadata": {},
   "outputs": [],
   "source": [
    "thread = threading.Thread(target=print, args=(\"Hi\",))\n",
    "thread"
   ]
  },
  {
   "cell_type": "code",
   "execution_count": null,
   "metadata": {},
   "outputs": [],
   "source": [
    "thread.start()"
   ]
  },
  {
   "cell_type": "code",
   "execution_count": null,
   "metadata": {},
   "outputs": [],
   "source": [
    "# the thread is already finished\n",
    "thread.is_alive()"
   ]
  },
  {
   "cell_type": "markdown",
   "metadata": {},
   "source": [
    "## Example 2: sleep"
   ]
  },
  {
   "cell_type": "code",
   "execution_count": null,
   "metadata": {},
   "outputs": [],
   "source": [
    "from time import sleep\n",
    "\n",
    "thread = threading.Thread(target=sleep, args=(10,))\n",
    "thread"
   ]
  },
  {
   "cell_type": "code",
   "execution_count": null,
   "metadata": {},
   "outputs": [],
   "source": [
    "thread.start()"
   ]
  },
  {
   "cell_type": "code",
   "execution_count": null,
   "metadata": {},
   "outputs": [],
   "source": [
    "# the thread is still running\n",
    "thread.is_alive()"
   ]
  },
  {
   "cell_type": "code",
   "execution_count": null,
   "metadata": {},
   "outputs": [],
   "source": [
    "thread.join()\n",
    "# now we are waiting to finish\n",
    "print(\"done\")"
   ]
  },
  {
   "cell_type": "markdown",
   "metadata": {},
   "source": [
    "## Example 3: ThreadPool"
   ]
  },
  {
   "cell_type": "code",
   "execution_count": null,
   "metadata": {},
   "outputs": [],
   "source": [
    "from multiprocessing.pool import ThreadPool\n",
    "\n",
    "\n",
    "def sleep_print(*args):\n",
    "    sleep(1)\n",
    "    print(*args)\n",
    "\n",
    "\n",
    "pool = ThreadPool(8)\n",
    "pool.map(sleep_print, range(8))"
   ]
  },
  {
   "cell_type": "markdown",
   "metadata": {},
   "source": [
    "## Example 4: Race condition"
   ]
  },
  {
   "cell_type": "code",
   "execution_count": null,
   "metadata": {},
   "outputs": [],
   "source": [
    "def inc_x(n):\n",
    "    # global variable x\n",
    "    global x\n",
    "\n",
    "    for i in range(n):\n",
    "        x += 1\n",
    "\n",
    "\n",
    "x = 0\n",
    "inc_x(100)\n",
    "x"
   ]
  },
  {
   "cell_type": "code",
   "execution_count": null,
   "metadata": {},
   "outputs": [],
   "source": [
    "for i in range(10):\n",
    "    x = 0\n",
    "    total = 2 ** 16\n",
    "    threads = 8\n",
    "    ThreadPool(threads).map(inc_x, [total // threads] * threads)\n",
    "    print(x)"
   ]
  },
  {
   "cell_type": "markdown",
   "metadata": {},
   "source": [
    "## Example 5: something real"
   ]
  },
  {
   "cell_type": "code",
   "execution_count": null,
   "metadata": {},
   "outputs": [],
   "source": [
    "pool = ThreadPool(8)\n",
    "\n",
    "times = DataFrame(index=[2 ** i for i in range(3, 24)])\n",
    "\n",
    "for size in times.index:\n",
    "    x = np.random.rand(size)\n",
    "    for threads in [1, 2, 4, 8]:\n",
    "        xs = np.split(x, threads)\n",
    "        times.at[size, threads] = timeit(lambda: pool.map(np.sin, xs), number=1)\n",
    "\n",
    "times.plot(ylabel=\"Time [seconds]\", xlabel=\"Size\")"
   ]
  },
  {
   "cell_type": "code",
   "execution_count": null,
   "metadata": {},
   "outputs": [],
   "source": [
    "perf = times.apply(lambda x: np.array(times.index) / x)\n",
    "perf.plot(logx=True, ylabel=\"sin per second\", xlabel=\"Size\")"
   ]
  },
  {
   "cell_type": "markdown",
   "metadata": {},
   "source": [
    "## Example 6: multiprocessing vs multithreading"
   ]
  },
  {
   "cell_type": "code",
   "execution_count": null,
   "metadata": {},
   "outputs": [],
   "source": [
    "def countdown(n):\n",
    "    while n > 0:\n",
    "        n -= 1\n",
    "\n",
    "\n",
    "count = 50000000\n",
    "timeit(lambda: countdown(count), number=1)"
   ]
  },
  {
   "cell_type": "code",
   "execution_count": null,
   "metadata": {},
   "outputs": [],
   "source": [
    "timeit(lambda: pool.map(countdown, [count // 2] * 2), number=1)"
   ]
  },
  {
   "cell_type": "code",
   "execution_count": null,
   "metadata": {},
   "outputs": [],
   "source": [
    "from multiprocessing import Pool\n",
    "\n",
    "pool2 = Pool(2)\n",
    "timeit(lambda: pool2.map(countdown, [count // 2] * 2), number=1)"
   ]
  },
  {
   "cell_type": "markdown",
   "metadata": {},
   "source": [
    "In this case multiprocessing is faster due to the Global Interpreter Lock ([GIL](https://realpython.com/python-gil/#:~:text=The%20Python%20Global%20Interpreter%20Lock%20or%20GIL%2C%20in%20simple%20words,at%20any%20point%20in%20time.))"
   ]
  }
 ],
 "metadata": {
  "kernelspec": {
   "display_name": "Python 3",
   "language": "python",
   "name": "python3"
  },
  "language_info": {
   "codemirror_mode": {
    "name": "ipython",
    "version": 3
   },
   "file_extension": ".py",
   "mimetype": "text/x-python",
   "name": "python",
   "nbconvert_exporter": "python",
   "pygments_lexer": "ipython3",
   "version": "3.7.6"
  }
 },
 "nbformat": 4,
 "nbformat_minor": 4
}
